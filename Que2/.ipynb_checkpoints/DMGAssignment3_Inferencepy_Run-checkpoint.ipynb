{
 "cells": [
  {
   "cell_type": "code",
   "execution_count": 1,
   "metadata": {
    "id": "rFQf-2NFgAXm"
   },
   "outputs": [],
   "source": [
    "from inference import predict"
   ]
  },
  {
   "cell_type": "code",
   "execution_count": 2,
   "metadata": {
    "id": "b3sTYCZbiJca"
   },
   "outputs": [],
   "source": [
    "path = 'test_set.csv'"
   ]
  },
  {
   "cell_type": "code",
   "execution_count": 3,
   "metadata": {
    "colab": {
     "base_uri": "https://localhost:8080/"
    },
    "id": "KsvMSdDaiNIF",
    "outputId": "4b0c3886-2d1e-458e-8a0e-f7fec2dd1f54"
   },
   "outputs": [
    {
     "name": "stderr",
     "output_type": "stream",
     "text": [
      "/opt/anaconda3/lib/python3.8/site-packages/sklearn/base.py:310: UserWarning: Trying to unpickle estimator KMeans from version 1.0.1 when using version 0.24.1. This might lead to breaking code or invalid results. Use at your own risk.\n",
      "  warnings.warn(\n"
     ]
    },
    {
     "data": {
      "text/plain": [
       "array([1, 3, 3, 3, 2, 1, 2, 2, 2, 2, 2, 2, 2, 3, 2, 2, 1, 2, 2, 2, 3, 2,\n",
       "       2, 1, 3, 2, 1, 2, 1, 2, 1, 2, 2, 3, 2, 1, 1, 2, 2, 2, 4, 2, 3, 2,\n",
       "       3, 3, 3, 2, 2, 1, 2, 1, 2, 2, 2, 3, 3, 3, 1, 2, 2, 4, 1, 2, 1, 1,\n",
       "       7, 3, 2, 2, 7, 1, 2, 2, 2, 3, 2, 1, 7, 1, 2, 1, 2, 1, 2, 3, 1, 2,\n",
       "       1, 2, 2, 1, 2, 4, 2, 2, 7, 2, 1, 2])"
      ]
     },
     "execution_count": 3,
     "metadata": {},
     "output_type": "execute_result"
    }
   ],
   "source": [
    "predict(path)"
   ]
  },
  {
   "cell_type": "code",
   "execution_count": null,
   "metadata": {
    "id": "aZl-hoiDiPp_"
   },
   "outputs": [],
   "source": []
  }
 ],
 "metadata": {
  "colab": {
   "name": "DMGAssignment3_Inferencepy_Run.ipynb",
   "provenance": []
  },
  "kernelspec": {
   "display_name": "Python 3",
   "language": "python",
   "name": "python3"
  },
  "language_info": {
   "codemirror_mode": {
    "name": "ipython",
    "version": 3
   },
   "file_extension": ".py",
   "mimetype": "text/x-python",
   "name": "python",
   "nbconvert_exporter": "python",
   "pygments_lexer": "ipython3",
   "version": "3.8.8"
  }
 },
 "nbformat": 4,
 "nbformat_minor": 1
}
