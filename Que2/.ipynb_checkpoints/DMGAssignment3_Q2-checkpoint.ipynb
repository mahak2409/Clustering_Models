{
 "cells": [
  {
   "cell_type": "code",
   "execution_count": 1,
   "metadata": {
    "id": "eK-lfz8VTgcE"
   },
   "outputs": [],
   "source": [
    "import pandas as pd\n",
    "import numpy as np\n",
    "from sklearn.cluster import KMeans\n",
    "from sklearn.metrics import f1_score \n",
    "from sklearn.metrics import accuracy_score"
   ]
  },
  {
   "cell_type": "code",
   "execution_count": 189,
   "metadata": {
    "colab": {
     "base_uri": "https://localhost:8080/",
     "height": 444
    },
    "id": "o6sb1TZSUlY-",
    "outputId": "b75a43f2-aefc-4f53-f844-f62b2314eb0f"
   },
   "outputs": [
    {
     "data": {
      "text/html": [
       "<div>\n",
       "<style scoped>\n",
       "    .dataframe tbody tr th:only-of-type {\n",
       "        vertical-align: middle;\n",
       "    }\n",
       "\n",
       "    .dataframe tbody tr th {\n",
       "        vertical-align: top;\n",
       "    }\n",
       "\n",
       "    .dataframe thead th {\n",
       "        text-align: right;\n",
       "    }\n",
       "</style>\n",
       "<table border=\"1\" class=\"dataframe\">\n",
       "  <thead>\n",
       "    <tr style=\"text-align: right;\">\n",
       "      <th></th>\n",
       "      <th>Elevation</th>\n",
       "      <th>Aspect</th>\n",
       "      <th>Slope</th>\n",
       "      <th>Hillshade_9am</th>\n",
       "      <th>Hillshade_Noon</th>\n",
       "      <th>Horizontal_Distance_To_Hydrology</th>\n",
       "      <th>Vertical_Distance_To_Hydrology</th>\n",
       "      <th>Horizontal_Distance_To_Fire_Points</th>\n",
       "      <th>Soil_Type</th>\n",
       "      <th>Wilderness</th>\n",
       "      <th>target</th>\n",
       "    </tr>\n",
       "  </thead>\n",
       "  <tbody>\n",
       "    <tr>\n",
       "      <th>0</th>\n",
       "      <td>elevation_medium</td>\n",
       "      <td>aspect_medium</td>\n",
       "      <td>slope_low</td>\n",
       "      <td>hillshade_9am_max</td>\n",
       "      <td>hillnoon_max</td>\n",
       "      <td>0</td>\n",
       "      <td>1</td>\n",
       "      <td>low</td>\n",
       "      <td>22</td>\n",
       "      <td>0</td>\n",
       "      <td>2</td>\n",
       "    </tr>\n",
       "    <tr>\n",
       "      <th>1</th>\n",
       "      <td>elevation_high</td>\n",
       "      <td>aspect_medium</td>\n",
       "      <td>slope_low</td>\n",
       "      <td>hillshade_9am_max</td>\n",
       "      <td>hillnoon_max</td>\n",
       "      <td>1</td>\n",
       "      <td>1</td>\n",
       "      <td>mid</td>\n",
       "      <td>32</td>\n",
       "      <td>2</td>\n",
       "      <td>1</td>\n",
       "    </tr>\n",
       "    <tr>\n",
       "      <th>2</th>\n",
       "      <td>elevation_medium</td>\n",
       "      <td>aspect_low</td>\n",
       "      <td>slope_low</td>\n",
       "      <td>hillshade_9am_max</td>\n",
       "      <td>hillnoon_max</td>\n",
       "      <td>1</td>\n",
       "      <td>1</td>\n",
       "      <td>low</td>\n",
       "      <td>10</td>\n",
       "      <td>2</td>\n",
       "      <td>2</td>\n",
       "    </tr>\n",
       "    <tr>\n",
       "      <th>3</th>\n",
       "      <td>elevation_high</td>\n",
       "      <td>aspect_ultra</td>\n",
       "      <td>slope_medium</td>\n",
       "      <td>hillshade_9am_max</td>\n",
       "      <td>hillnoon_max</td>\n",
       "      <td>2</td>\n",
       "      <td>1</td>\n",
       "      <td>low</td>\n",
       "      <td>23</td>\n",
       "      <td>2</td>\n",
       "      <td>1</td>\n",
       "    </tr>\n",
       "    <tr>\n",
       "      <th>4</th>\n",
       "      <td>elevation_high</td>\n",
       "      <td>aspect_high</td>\n",
       "      <td>slope_low</td>\n",
       "      <td>hillshade_9am_max</td>\n",
       "      <td>hillnoon_max</td>\n",
       "      <td>2</td>\n",
       "      <td>1</td>\n",
       "      <td>mid</td>\n",
       "      <td>28</td>\n",
       "      <td>0</td>\n",
       "      <td>2</td>\n",
       "    </tr>\n",
       "    <tr>\n",
       "      <th>...</th>\n",
       "      <td>...</td>\n",
       "      <td>...</td>\n",
       "      <td>...</td>\n",
       "      <td>...</td>\n",
       "      <td>...</td>\n",
       "      <td>...</td>\n",
       "      <td>...</td>\n",
       "      <td>...</td>\n",
       "      <td>...</td>\n",
       "      <td>...</td>\n",
       "      <td>...</td>\n",
       "    </tr>\n",
       "    <tr>\n",
       "      <th>406703</th>\n",
       "      <td>elevation_ultra</td>\n",
       "      <td>aspect_medium</td>\n",
       "      <td>slope_low</td>\n",
       "      <td>hillshade_9am_max</td>\n",
       "      <td>hillnoon_max</td>\n",
       "      <td>1</td>\n",
       "      <td>1</td>\n",
       "      <td>mid</td>\n",
       "      <td>39</td>\n",
       "      <td>0</td>\n",
       "      <td>7</td>\n",
       "    </tr>\n",
       "    <tr>\n",
       "      <th>406704</th>\n",
       "      <td>elevation_medium</td>\n",
       "      <td>aspect_low</td>\n",
       "      <td>slope_medium</td>\n",
       "      <td>hillshade_9am_max</td>\n",
       "      <td>hillnoon_max</td>\n",
       "      <td>0</td>\n",
       "      <td>1</td>\n",
       "      <td>mid</td>\n",
       "      <td>28</td>\n",
       "      <td>0</td>\n",
       "      <td>2</td>\n",
       "    </tr>\n",
       "    <tr>\n",
       "      <th>406705</th>\n",
       "      <td>elevation_medium</td>\n",
       "      <td>aspect_medium</td>\n",
       "      <td>slope_low</td>\n",
       "      <td>hillshade_9am_max</td>\n",
       "      <td>hillnoon_max</td>\n",
       "      <td>0</td>\n",
       "      <td>1</td>\n",
       "      <td>mid</td>\n",
       "      <td>28</td>\n",
       "      <td>0</td>\n",
       "      <td>2</td>\n",
       "    </tr>\n",
       "    <tr>\n",
       "      <th>406706</th>\n",
       "      <td>elevation_high</td>\n",
       "      <td>aspect_high</td>\n",
       "      <td>slope_low</td>\n",
       "      <td>hillshade_9am_max</td>\n",
       "      <td>hillnoon_max</td>\n",
       "      <td>2</td>\n",
       "      <td>2</td>\n",
       "      <td>low</td>\n",
       "      <td>28</td>\n",
       "      <td>0</td>\n",
       "      <td>2</td>\n",
       "    </tr>\n",
       "    <tr>\n",
       "      <th>406707</th>\n",
       "      <td>elevation_medium</td>\n",
       "      <td>aspect_ultra</td>\n",
       "      <td>slope_low</td>\n",
       "      <td>hillshade_9am_max</td>\n",
       "      <td>hillnoon_max</td>\n",
       "      <td>0</td>\n",
       "      <td>1</td>\n",
       "      <td>low</td>\n",
       "      <td>30</td>\n",
       "      <td>2</td>\n",
       "      <td>2</td>\n",
       "    </tr>\n",
       "  </tbody>\n",
       "</table>\n",
       "<p>406708 rows × 11 columns</p>\n",
       "</div>"
      ],
      "text/plain": [
       "               Elevation         Aspect  ... Wilderness target\n",
       "0       elevation_medium  aspect_medium  ...          0      2\n",
       "1         elevation_high  aspect_medium  ...          2      1\n",
       "2       elevation_medium     aspect_low  ...          2      2\n",
       "3         elevation_high   aspect_ultra  ...          2      1\n",
       "4         elevation_high    aspect_high  ...          0      2\n",
       "...                  ...            ...  ...        ...    ...\n",
       "406703   elevation_ultra  aspect_medium  ...          0      7\n",
       "406704  elevation_medium     aspect_low  ...          0      2\n",
       "406705  elevation_medium  aspect_medium  ...          0      2\n",
       "406706    elevation_high    aspect_high  ...          0      2\n",
       "406707  elevation_medium   aspect_ultra  ...          2      2\n",
       "\n",
       "[406708 rows x 11 columns]"
      ]
     },
     "execution_count": 189,
     "metadata": {},
     "output_type": "execute_result"
    }
   ],
   "source": [
    "#When running from colab\n",
    "df = pd.read_csv(\"/content/drive/MyDrive/DMGAssignment3/covtype_train.csv\")\n",
    "df"
   ]
  },
  {
   "cell_type": "code",
   "execution_count": 2,
   "metadata": {},
   "outputs": [
    {
     "data": {
      "text/html": [
       "<div>\n",
       "<style scoped>\n",
       "    .dataframe tbody tr th:only-of-type {\n",
       "        vertical-align: middle;\n",
       "    }\n",
       "\n",
       "    .dataframe tbody tr th {\n",
       "        vertical-align: top;\n",
       "    }\n",
       "\n",
       "    .dataframe thead th {\n",
       "        text-align: right;\n",
       "    }\n",
       "</style>\n",
       "<table border=\"1\" class=\"dataframe\">\n",
       "  <thead>\n",
       "    <tr style=\"text-align: right;\">\n",
       "      <th></th>\n",
       "      <th>Elevation</th>\n",
       "      <th>Aspect</th>\n",
       "      <th>Slope</th>\n",
       "      <th>Hillshade_9am</th>\n",
       "      <th>Hillshade_Noon</th>\n",
       "      <th>Horizontal_Distance_To_Hydrology</th>\n",
       "      <th>Vertical_Distance_To_Hydrology</th>\n",
       "      <th>Horizontal_Distance_To_Fire_Points</th>\n",
       "      <th>Soil_Type</th>\n",
       "      <th>Wilderness</th>\n",
       "      <th>target</th>\n",
       "    </tr>\n",
       "  </thead>\n",
       "  <tbody>\n",
       "    <tr>\n",
       "      <th>0</th>\n",
       "      <td>elevation_medium</td>\n",
       "      <td>aspect_medium</td>\n",
       "      <td>slope_low</td>\n",
       "      <td>hillshade_9am_max</td>\n",
       "      <td>hillnoon_max</td>\n",
       "      <td>0</td>\n",
       "      <td>1</td>\n",
       "      <td>low</td>\n",
       "      <td>22</td>\n",
       "      <td>0</td>\n",
       "      <td>2</td>\n",
       "    </tr>\n",
       "    <tr>\n",
       "      <th>1</th>\n",
       "      <td>elevation_high</td>\n",
       "      <td>aspect_medium</td>\n",
       "      <td>slope_low</td>\n",
       "      <td>hillshade_9am_max</td>\n",
       "      <td>hillnoon_max</td>\n",
       "      <td>1</td>\n",
       "      <td>1</td>\n",
       "      <td>mid</td>\n",
       "      <td>32</td>\n",
       "      <td>2</td>\n",
       "      <td>1</td>\n",
       "    </tr>\n",
       "    <tr>\n",
       "      <th>2</th>\n",
       "      <td>elevation_medium</td>\n",
       "      <td>aspect_low</td>\n",
       "      <td>slope_low</td>\n",
       "      <td>hillshade_9am_max</td>\n",
       "      <td>hillnoon_max</td>\n",
       "      <td>1</td>\n",
       "      <td>1</td>\n",
       "      <td>low</td>\n",
       "      <td>10</td>\n",
       "      <td>2</td>\n",
       "      <td>2</td>\n",
       "    </tr>\n",
       "    <tr>\n",
       "      <th>3</th>\n",
       "      <td>elevation_high</td>\n",
       "      <td>aspect_ultra</td>\n",
       "      <td>slope_medium</td>\n",
       "      <td>hillshade_9am_max</td>\n",
       "      <td>hillnoon_max</td>\n",
       "      <td>2</td>\n",
       "      <td>1</td>\n",
       "      <td>low</td>\n",
       "      <td>23</td>\n",
       "      <td>2</td>\n",
       "      <td>1</td>\n",
       "    </tr>\n",
       "    <tr>\n",
       "      <th>4</th>\n",
       "      <td>elevation_high</td>\n",
       "      <td>aspect_high</td>\n",
       "      <td>slope_low</td>\n",
       "      <td>hillshade_9am_max</td>\n",
       "      <td>hillnoon_max</td>\n",
       "      <td>2</td>\n",
       "      <td>1</td>\n",
       "      <td>mid</td>\n",
       "      <td>28</td>\n",
       "      <td>0</td>\n",
       "      <td>2</td>\n",
       "    </tr>\n",
       "    <tr>\n",
       "      <th>...</th>\n",
       "      <td>...</td>\n",
       "      <td>...</td>\n",
       "      <td>...</td>\n",
       "      <td>...</td>\n",
       "      <td>...</td>\n",
       "      <td>...</td>\n",
       "      <td>...</td>\n",
       "      <td>...</td>\n",
       "      <td>...</td>\n",
       "      <td>...</td>\n",
       "      <td>...</td>\n",
       "    </tr>\n",
       "    <tr>\n",
       "      <th>406703</th>\n",
       "      <td>elevation_ultra</td>\n",
       "      <td>aspect_medium</td>\n",
       "      <td>slope_low</td>\n",
       "      <td>hillshade_9am_max</td>\n",
       "      <td>hillnoon_max</td>\n",
       "      <td>1</td>\n",
       "      <td>1</td>\n",
       "      <td>mid</td>\n",
       "      <td>39</td>\n",
       "      <td>0</td>\n",
       "      <td>7</td>\n",
       "    </tr>\n",
       "    <tr>\n",
       "      <th>406704</th>\n",
       "      <td>elevation_medium</td>\n",
       "      <td>aspect_low</td>\n",
       "      <td>slope_medium</td>\n",
       "      <td>hillshade_9am_max</td>\n",
       "      <td>hillnoon_max</td>\n",
       "      <td>0</td>\n",
       "      <td>1</td>\n",
       "      <td>mid</td>\n",
       "      <td>28</td>\n",
       "      <td>0</td>\n",
       "      <td>2</td>\n",
       "    </tr>\n",
       "    <tr>\n",
       "      <th>406705</th>\n",
       "      <td>elevation_medium</td>\n",
       "      <td>aspect_medium</td>\n",
       "      <td>slope_low</td>\n",
       "      <td>hillshade_9am_max</td>\n",
       "      <td>hillnoon_max</td>\n",
       "      <td>0</td>\n",
       "      <td>1</td>\n",
       "      <td>mid</td>\n",
       "      <td>28</td>\n",
       "      <td>0</td>\n",
       "      <td>2</td>\n",
       "    </tr>\n",
       "    <tr>\n",
       "      <th>406706</th>\n",
       "      <td>elevation_high</td>\n",
       "      <td>aspect_high</td>\n",
       "      <td>slope_low</td>\n",
       "      <td>hillshade_9am_max</td>\n",
       "      <td>hillnoon_max</td>\n",
       "      <td>2</td>\n",
       "      <td>2</td>\n",
       "      <td>low</td>\n",
       "      <td>28</td>\n",
       "      <td>0</td>\n",
       "      <td>2</td>\n",
       "    </tr>\n",
       "    <tr>\n",
       "      <th>406707</th>\n",
       "      <td>elevation_medium</td>\n",
       "      <td>aspect_ultra</td>\n",
       "      <td>slope_low</td>\n",
       "      <td>hillshade_9am_max</td>\n",
       "      <td>hillnoon_max</td>\n",
       "      <td>0</td>\n",
       "      <td>1</td>\n",
       "      <td>low</td>\n",
       "      <td>30</td>\n",
       "      <td>2</td>\n",
       "      <td>2</td>\n",
       "    </tr>\n",
       "  </tbody>\n",
       "</table>\n",
       "<p>406708 rows × 11 columns</p>\n",
       "</div>"
      ],
      "text/plain": [
       "               Elevation         Aspect         Slope      Hillshade_9am  \\\n",
       "0       elevation_medium  aspect_medium     slope_low  hillshade_9am_max   \n",
       "1         elevation_high  aspect_medium     slope_low  hillshade_9am_max   \n",
       "2       elevation_medium     aspect_low     slope_low  hillshade_9am_max   \n",
       "3         elevation_high   aspect_ultra  slope_medium  hillshade_9am_max   \n",
       "4         elevation_high    aspect_high     slope_low  hillshade_9am_max   \n",
       "...                  ...            ...           ...                ...   \n",
       "406703   elevation_ultra  aspect_medium     slope_low  hillshade_9am_max   \n",
       "406704  elevation_medium     aspect_low  slope_medium  hillshade_9am_max   \n",
       "406705  elevation_medium  aspect_medium     slope_low  hillshade_9am_max   \n",
       "406706    elevation_high    aspect_high     slope_low  hillshade_9am_max   \n",
       "406707  elevation_medium   aspect_ultra     slope_low  hillshade_9am_max   \n",
       "\n",
       "       Hillshade_Noon  Horizontal_Distance_To_Hydrology  \\\n",
       "0        hillnoon_max                                 0   \n",
       "1        hillnoon_max                                 1   \n",
       "2        hillnoon_max                                 1   \n",
       "3        hillnoon_max                                 2   \n",
       "4        hillnoon_max                                 2   \n",
       "...               ...                               ...   \n",
       "406703   hillnoon_max                                 1   \n",
       "406704   hillnoon_max                                 0   \n",
       "406705   hillnoon_max                                 0   \n",
       "406706   hillnoon_max                                 2   \n",
       "406707   hillnoon_max                                 0   \n",
       "\n",
       "        Vertical_Distance_To_Hydrology Horizontal_Distance_To_Fire_Points  \\\n",
       "0                                    1                                low   \n",
       "1                                    1                                mid   \n",
       "2                                    1                                low   \n",
       "3                                    1                                low   \n",
       "4                                    1                                mid   \n",
       "...                                ...                                ...   \n",
       "406703                               1                                mid   \n",
       "406704                               1                                mid   \n",
       "406705                               1                                mid   \n",
       "406706                               2                                low   \n",
       "406707                               1                                low   \n",
       "\n",
       "        Soil_Type  Wilderness  target  \n",
       "0              22           0       2  \n",
       "1              32           2       1  \n",
       "2              10           2       2  \n",
       "3              23           2       1  \n",
       "4              28           0       2  \n",
       "...           ...         ...     ...  \n",
       "406703         39           0       7  \n",
       "406704         28           0       2  \n",
       "406705         28           0       2  \n",
       "406706         28           0       2  \n",
       "406707         30           2       2  \n",
       "\n",
       "[406708 rows x 11 columns]"
      ]
     },
     "execution_count": 2,
     "metadata": {},
     "output_type": "execute_result"
    }
   ],
   "source": [
    "#When running locally\n",
    "df = pd.read_csv(\"covtype_train.csv\")\n",
    "df"
   ]
  },
  {
   "cell_type": "code",
   "execution_count": 3,
   "metadata": {
    "id": "DJUKeYWzFnYh"
   },
   "outputs": [],
   "source": [
    "df.drop_duplicates(keep=False,inplace=True)\n"
   ]
  },
  {
   "cell_type": "code",
   "execution_count": 4,
   "metadata": {
    "colab": {
     "base_uri": "https://localhost:8080/"
    },
    "id": "dG0CSaWvFolY",
    "outputId": "c5525555-7053-4d93-a3f9-8abd49f9c37e"
   },
   "outputs": [
    {
     "data": {
      "text/plain": [
       "(2239, 11)"
      ]
     },
     "execution_count": 4,
     "metadata": {},
     "output_type": "execute_result"
    }
   ],
   "source": [
    "df.shape"
   ]
  },
  {
   "cell_type": "code",
   "execution_count": 5,
   "metadata": {
    "colab": {
     "base_uri": "https://localhost:8080/"
    },
    "id": "-QHN67F-kWtY",
    "outputId": "d0d1e5d9-15b4-4ee1-f21c-bd7acab4fb2f"
   },
   "outputs": [
    {
     "data": {
      "text/plain": [
       "2    781\n",
       "1    706\n",
       "7    233\n",
       "3    197\n",
       "6    149\n",
       "5    135\n",
       "4     38\n",
       "Name: target, dtype: int64"
      ]
     },
     "execution_count": 5,
     "metadata": {},
     "output_type": "execute_result"
    }
   ],
   "source": [
    "df['target'].value_counts()"
   ]
  },
  {
   "cell_type": "code",
   "execution_count": 6,
   "metadata": {
    "colab": {
     "base_uri": "https://localhost:8080/",
     "height": 444
    },
    "id": "-5dFOsnPeWgI",
    "outputId": "945232cb-5fc7-4256-9642-f4420cee195f"
   },
   "outputs": [
    {
     "data": {
      "text/html": [
       "<div>\n",
       "<style scoped>\n",
       "    .dataframe tbody tr th:only-of-type {\n",
       "        vertical-align: middle;\n",
       "    }\n",
       "\n",
       "    .dataframe tbody tr th {\n",
       "        vertical-align: top;\n",
       "    }\n",
       "\n",
       "    .dataframe thead th {\n",
       "        text-align: right;\n",
       "    }\n",
       "</style>\n",
       "<table border=\"1\" class=\"dataframe\">\n",
       "  <thead>\n",
       "    <tr style=\"text-align: right;\">\n",
       "      <th></th>\n",
       "      <th>Horizontal_Distance_To_Hydrology</th>\n",
       "      <th>Vertical_Distance_To_Hydrology</th>\n",
       "      <th>Soil_Type</th>\n",
       "      <th>Wilderness</th>\n",
       "      <th>Elevation_elevation_high</th>\n",
       "      <th>Elevation_elevation_low</th>\n",
       "      <th>Elevation_elevation_medium</th>\n",
       "      <th>Elevation_elevation_ultra</th>\n",
       "      <th>Aspect_aspect_high</th>\n",
       "      <th>Aspect_aspect_low</th>\n",
       "      <th>...</th>\n",
       "      <th>Slope_slope_low</th>\n",
       "      <th>Slope_slope_medium</th>\n",
       "      <th>Slope_slope_ultra</th>\n",
       "      <th>Hillshade_9am_hillshade_9am_max</th>\n",
       "      <th>Hillshade_9am_hillshade_9am_min</th>\n",
       "      <th>Hillshade_Noon_hillnoon_max</th>\n",
       "      <th>Hillshade_Noon_hillnoon_min</th>\n",
       "      <th>Horizontal_Distance_To_Fire_Points_high</th>\n",
       "      <th>Horizontal_Distance_To_Fire_Points_low</th>\n",
       "      <th>Horizontal_Distance_To_Fire_Points_mid</th>\n",
       "    </tr>\n",
       "  </thead>\n",
       "  <tbody>\n",
       "    <tr>\n",
       "      <th>421</th>\n",
       "      <td>1</td>\n",
       "      <td>1</td>\n",
       "      <td>1</td>\n",
       "      <td>3</td>\n",
       "      <td>0</td>\n",
       "      <td>1</td>\n",
       "      <td>0</td>\n",
       "      <td>0</td>\n",
       "      <td>0</td>\n",
       "      <td>0</td>\n",
       "      <td>...</td>\n",
       "      <td>1</td>\n",
       "      <td>0</td>\n",
       "      <td>0</td>\n",
       "      <td>1</td>\n",
       "      <td>0</td>\n",
       "      <td>1</td>\n",
       "      <td>0</td>\n",
       "      <td>0</td>\n",
       "      <td>1</td>\n",
       "      <td>0</td>\n",
       "    </tr>\n",
       "    <tr>\n",
       "      <th>954</th>\n",
       "      <td>1</td>\n",
       "      <td>2</td>\n",
       "      <td>21</td>\n",
       "      <td>2</td>\n",
       "      <td>0</td>\n",
       "      <td>0</td>\n",
       "      <td>1</td>\n",
       "      <td>0</td>\n",
       "      <td>0</td>\n",
       "      <td>1</td>\n",
       "      <td>...</td>\n",
       "      <td>0</td>\n",
       "      <td>1</td>\n",
       "      <td>0</td>\n",
       "      <td>1</td>\n",
       "      <td>0</td>\n",
       "      <td>1</td>\n",
       "      <td>0</td>\n",
       "      <td>0</td>\n",
       "      <td>1</td>\n",
       "      <td>0</td>\n",
       "    </tr>\n",
       "    <tr>\n",
       "      <th>1278</th>\n",
       "      <td>1</td>\n",
       "      <td>1</td>\n",
       "      <td>23</td>\n",
       "      <td>0</td>\n",
       "      <td>0</td>\n",
       "      <td>0</td>\n",
       "      <td>1</td>\n",
       "      <td>0</td>\n",
       "      <td>0</td>\n",
       "      <td>0</td>\n",
       "      <td>...</td>\n",
       "      <td>0</td>\n",
       "      <td>1</td>\n",
       "      <td>0</td>\n",
       "      <td>1</td>\n",
       "      <td>0</td>\n",
       "      <td>1</td>\n",
       "      <td>0</td>\n",
       "      <td>1</td>\n",
       "      <td>0</td>\n",
       "      <td>0</td>\n",
       "    </tr>\n",
       "    <tr>\n",
       "      <th>1505</th>\n",
       "      <td>2</td>\n",
       "      <td>1</td>\n",
       "      <td>30</td>\n",
       "      <td>2</td>\n",
       "      <td>0</td>\n",
       "      <td>0</td>\n",
       "      <td>1</td>\n",
       "      <td>0</td>\n",
       "      <td>0</td>\n",
       "      <td>1</td>\n",
       "      <td>...</td>\n",
       "      <td>1</td>\n",
       "      <td>0</td>\n",
       "      <td>0</td>\n",
       "      <td>1</td>\n",
       "      <td>0</td>\n",
       "      <td>1</td>\n",
       "      <td>0</td>\n",
       "      <td>0</td>\n",
       "      <td>1</td>\n",
       "      <td>0</td>\n",
       "    </tr>\n",
       "    <tr>\n",
       "      <th>1567</th>\n",
       "      <td>0</td>\n",
       "      <td>1</td>\n",
       "      <td>9</td>\n",
       "      <td>3</td>\n",
       "      <td>0</td>\n",
       "      <td>1</td>\n",
       "      <td>0</td>\n",
       "      <td>0</td>\n",
       "      <td>0</td>\n",
       "      <td>0</td>\n",
       "      <td>...</td>\n",
       "      <td>0</td>\n",
       "      <td>1</td>\n",
       "      <td>0</td>\n",
       "      <td>0</td>\n",
       "      <td>1</td>\n",
       "      <td>1</td>\n",
       "      <td>0</td>\n",
       "      <td>0</td>\n",
       "      <td>1</td>\n",
       "      <td>0</td>\n",
       "    </tr>\n",
       "    <tr>\n",
       "      <th>...</th>\n",
       "      <td>...</td>\n",
       "      <td>...</td>\n",
       "      <td>...</td>\n",
       "      <td>...</td>\n",
       "      <td>...</td>\n",
       "      <td>...</td>\n",
       "      <td>...</td>\n",
       "      <td>...</td>\n",
       "      <td>...</td>\n",
       "      <td>...</td>\n",
       "      <td>...</td>\n",
       "      <td>...</td>\n",
       "      <td>...</td>\n",
       "      <td>...</td>\n",
       "      <td>...</td>\n",
       "      <td>...</td>\n",
       "      <td>...</td>\n",
       "      <td>...</td>\n",
       "      <td>...</td>\n",
       "      <td>...</td>\n",
       "      <td>...</td>\n",
       "    </tr>\n",
       "    <tr>\n",
       "      <th>405630</th>\n",
       "      <td>2</td>\n",
       "      <td>2</td>\n",
       "      <td>3</td>\n",
       "      <td>2</td>\n",
       "      <td>1</td>\n",
       "      <td>0</td>\n",
       "      <td>0</td>\n",
       "      <td>0</td>\n",
       "      <td>1</td>\n",
       "      <td>0</td>\n",
       "      <td>...</td>\n",
       "      <td>1</td>\n",
       "      <td>0</td>\n",
       "      <td>0</td>\n",
       "      <td>1</td>\n",
       "      <td>0</td>\n",
       "      <td>1</td>\n",
       "      <td>0</td>\n",
       "      <td>0</td>\n",
       "      <td>1</td>\n",
       "      <td>0</td>\n",
       "    </tr>\n",
       "    <tr>\n",
       "      <th>405688</th>\n",
       "      <td>1</td>\n",
       "      <td>1</td>\n",
       "      <td>19</td>\n",
       "      <td>0</td>\n",
       "      <td>0</td>\n",
       "      <td>0</td>\n",
       "      <td>1</td>\n",
       "      <td>0</td>\n",
       "      <td>0</td>\n",
       "      <td>1</td>\n",
       "      <td>...</td>\n",
       "      <td>0</td>\n",
       "      <td>1</td>\n",
       "      <td>0</td>\n",
       "      <td>1</td>\n",
       "      <td>0</td>\n",
       "      <td>1</td>\n",
       "      <td>0</td>\n",
       "      <td>0</td>\n",
       "      <td>1</td>\n",
       "      <td>0</td>\n",
       "    </tr>\n",
       "    <tr>\n",
       "      <th>405828</th>\n",
       "      <td>3</td>\n",
       "      <td>0</td>\n",
       "      <td>28</td>\n",
       "      <td>0</td>\n",
       "      <td>1</td>\n",
       "      <td>0</td>\n",
       "      <td>0</td>\n",
       "      <td>0</td>\n",
       "      <td>0</td>\n",
       "      <td>0</td>\n",
       "      <td>...</td>\n",
       "      <td>1</td>\n",
       "      <td>0</td>\n",
       "      <td>0</td>\n",
       "      <td>1</td>\n",
       "      <td>0</td>\n",
       "      <td>1</td>\n",
       "      <td>0</td>\n",
       "      <td>0</td>\n",
       "      <td>0</td>\n",
       "      <td>1</td>\n",
       "    </tr>\n",
       "    <tr>\n",
       "      <th>405883</th>\n",
       "      <td>0</td>\n",
       "      <td>1</td>\n",
       "      <td>2</td>\n",
       "      <td>2</td>\n",
       "      <td>0</td>\n",
       "      <td>1</td>\n",
       "      <td>0</td>\n",
       "      <td>0</td>\n",
       "      <td>0</td>\n",
       "      <td>0</td>\n",
       "      <td>...</td>\n",
       "      <td>1</td>\n",
       "      <td>0</td>\n",
       "      <td>0</td>\n",
       "      <td>1</td>\n",
       "      <td>0</td>\n",
       "      <td>1</td>\n",
       "      <td>0</td>\n",
       "      <td>0</td>\n",
       "      <td>1</td>\n",
       "      <td>0</td>\n",
       "    </tr>\n",
       "    <tr>\n",
       "      <th>406025</th>\n",
       "      <td>0</td>\n",
       "      <td>1</td>\n",
       "      <td>39</td>\n",
       "      <td>2</td>\n",
       "      <td>1</td>\n",
       "      <td>0</td>\n",
       "      <td>0</td>\n",
       "      <td>0</td>\n",
       "      <td>0</td>\n",
       "      <td>1</td>\n",
       "      <td>...</td>\n",
       "      <td>0</td>\n",
       "      <td>1</td>\n",
       "      <td>0</td>\n",
       "      <td>1</td>\n",
       "      <td>0</td>\n",
       "      <td>1</td>\n",
       "      <td>0</td>\n",
       "      <td>0</td>\n",
       "      <td>1</td>\n",
       "      <td>0</td>\n",
       "    </tr>\n",
       "  </tbody>\n",
       "</table>\n",
       "<p>2239 rows × 23 columns</p>\n",
       "</div>"
      ],
      "text/plain": [
       "        Horizontal_Distance_To_Hydrology  Vertical_Distance_To_Hydrology  \\\n",
       "421                                    1                               1   \n",
       "954                                    1                               2   \n",
       "1278                                   1                               1   \n",
       "1505                                   2                               1   \n",
       "1567                                   0                               1   \n",
       "...                                  ...                             ...   \n",
       "405630                                 2                               2   \n",
       "405688                                 1                               1   \n",
       "405828                                 3                               0   \n",
       "405883                                 0                               1   \n",
       "406025                                 0                               1   \n",
       "\n",
       "        Soil_Type  Wilderness  Elevation_elevation_high  \\\n",
       "421             1           3                         0   \n",
       "954            21           2                         0   \n",
       "1278           23           0                         0   \n",
       "1505           30           2                         0   \n",
       "1567            9           3                         0   \n",
       "...           ...         ...                       ...   \n",
       "405630          3           2                         1   \n",
       "405688         19           0                         0   \n",
       "405828         28           0                         1   \n",
       "405883          2           2                         0   \n",
       "406025         39           2                         1   \n",
       "\n",
       "        Elevation_elevation_low  Elevation_elevation_medium  \\\n",
       "421                           1                           0   \n",
       "954                           0                           1   \n",
       "1278                          0                           1   \n",
       "1505                          0                           1   \n",
       "1567                          1                           0   \n",
       "...                         ...                         ...   \n",
       "405630                        0                           0   \n",
       "405688                        0                           1   \n",
       "405828                        0                           0   \n",
       "405883                        1                           0   \n",
       "406025                        0                           0   \n",
       "\n",
       "        Elevation_elevation_ultra  Aspect_aspect_high  Aspect_aspect_low  ...  \\\n",
       "421                             0                   0                  0  ...   \n",
       "954                             0                   0                  1  ...   \n",
       "1278                            0                   0                  0  ...   \n",
       "1505                            0                   0                  1  ...   \n",
       "1567                            0                   0                  0  ...   \n",
       "...                           ...                 ...                ...  ...   \n",
       "405630                          0                   1                  0  ...   \n",
       "405688                          0                   0                  1  ...   \n",
       "405828                          0                   0                  0  ...   \n",
       "405883                          0                   0                  0  ...   \n",
       "406025                          0                   0                  1  ...   \n",
       "\n",
       "        Slope_slope_low  Slope_slope_medium  Slope_slope_ultra  \\\n",
       "421                   1                   0                  0   \n",
       "954                   0                   1                  0   \n",
       "1278                  0                   1                  0   \n",
       "1505                  1                   0                  0   \n",
       "1567                  0                   1                  0   \n",
       "...                 ...                 ...                ...   \n",
       "405630                1                   0                  0   \n",
       "405688                0                   1                  0   \n",
       "405828                1                   0                  0   \n",
       "405883                1                   0                  0   \n",
       "406025                0                   1                  0   \n",
       "\n",
       "        Hillshade_9am_hillshade_9am_max  Hillshade_9am_hillshade_9am_min  \\\n",
       "421                                   1                                0   \n",
       "954                                   1                                0   \n",
       "1278                                  1                                0   \n",
       "1505                                  1                                0   \n",
       "1567                                  0                                1   \n",
       "...                                 ...                              ...   \n",
       "405630                                1                                0   \n",
       "405688                                1                                0   \n",
       "405828                                1                                0   \n",
       "405883                                1                                0   \n",
       "406025                                1                                0   \n",
       "\n",
       "        Hillshade_Noon_hillnoon_max  Hillshade_Noon_hillnoon_min  \\\n",
       "421                               1                            0   \n",
       "954                               1                            0   \n",
       "1278                              1                            0   \n",
       "1505                              1                            0   \n",
       "1567                              1                            0   \n",
       "...                             ...                          ...   \n",
       "405630                            1                            0   \n",
       "405688                            1                            0   \n",
       "405828                            1                            0   \n",
       "405883                            1                            0   \n",
       "406025                            1                            0   \n",
       "\n",
       "        Horizontal_Distance_To_Fire_Points_high  \\\n",
       "421                                           0   \n",
       "954                                           0   \n",
       "1278                                          1   \n",
       "1505                                          0   \n",
       "1567                                          0   \n",
       "...                                         ...   \n",
       "405630                                        0   \n",
       "405688                                        0   \n",
       "405828                                        0   \n",
       "405883                                        0   \n",
       "406025                                        0   \n",
       "\n",
       "        Horizontal_Distance_To_Fire_Points_low  \\\n",
       "421                                          1   \n",
       "954                                          1   \n",
       "1278                                         0   \n",
       "1505                                         1   \n",
       "1567                                         1   \n",
       "...                                        ...   \n",
       "405630                                       1   \n",
       "405688                                       1   \n",
       "405828                                       0   \n",
       "405883                                       1   \n",
       "406025                                       1   \n",
       "\n",
       "        Horizontal_Distance_To_Fire_Points_mid  \n",
       "421                                          0  \n",
       "954                                          0  \n",
       "1278                                         0  \n",
       "1505                                         0  \n",
       "1567                                         0  \n",
       "...                                        ...  \n",
       "405630                                       0  \n",
       "405688                                       0  \n",
       "405828                                       1  \n",
       "405883                                       0  \n",
       "406025                                       0  \n",
       "\n",
       "[2239 rows x 23 columns]"
      ]
     },
     "execution_count": 6,
     "metadata": {},
     "output_type": "execute_result"
    }
   ],
   "source": [
    "#One hot encoding implementation\n",
    "features=df.columns\n",
    "features=features[:-1]\n",
    "target=df.columns[-1]\n",
    "one_hot_features=pd.get_dummies(df[features])\n",
    "one_hot_features"
   ]
  },
  {
   "cell_type": "code",
   "execution_count": 7,
   "metadata": {
    "id": "jusrzoc-jIws"
   },
   "outputs": [],
   "source": [
    "def splitting(features,target,p):\n",
    "  splitting_index= int(p * features.shape[0])\n",
    "  train_X=features[0:splitting_index]\n",
    "  train_y=target[0:splitting_index]\n",
    "  test_X=features[splitting_index:]\n",
    "  test_y= target[splitting_index:]\n",
    "  return train_X,train_y,test_X,test_y"
   ]
  },
  {
   "cell_type": "code",
   "execution_count": 8,
   "metadata": {
    "id": "4IE--7-1jLVH"
   },
   "outputs": [],
   "source": [
    "train_X,train_y,test_X,test_y= splitting(one_hot_features,df[target],0.8)\n"
   ]
  },
  {
   "cell_type": "code",
   "execution_count": 9,
   "metadata": {
    "colab": {
     "base_uri": "https://localhost:8080/"
    },
    "id": "xpWYPrhkIiGF",
    "outputId": "a01d6781-c34b-4995-c57a-574ca43392c4"
   },
   "outputs": [
    {
     "data": {
      "text/plain": [
       "(1791, 23)"
      ]
     },
     "execution_count": 9,
     "metadata": {},
     "output_type": "execute_result"
    }
   ],
   "source": [
    "train_X.shape"
   ]
  },
  {
   "cell_type": "code",
   "execution_count": 10,
   "metadata": {
    "id": "rEracVzcVdGa"
   },
   "outputs": [],
   "source": [
    "#Predict function for testing when splitting the data\n",
    "def predict(test_set,model,cluster_labels) :\n",
    "    # find and load your best model\n",
    "    # Do all preprocessings inside this function only.\n",
    "    # predict on the test set provided\n",
    "    '''\n",
    "    'test_set' is a csv path \"test.csv\", You need to read the csv and predict using your model.\n",
    "    '''\n",
    "    \n",
    "    '''\n",
    "    prediction is a 1D 'list' of output labels. just a single python list.\n",
    "    '''\n",
    "    test_predicted_clusters = model.predict(test_set)\n",
    "    prediction= np.array([cluster_labels[i] for i in test_predicted_clusters])\n",
    "    return prediction"
   ]
  },
  {
   "cell_type": "markdown",
   "metadata": {
    "id": "D-VtuJZ4Uj24"
   },
   "source": [
    "Kmeans"
   ]
  },
  {
   "cell_type": "markdown",
   "metadata": {
    "id": "6Na9jUBWWpvQ"
   },
   "source": [
    "Grid Search "
   ]
  },
  {
   "cell_type": "code",
   "execution_count": 11,
   "metadata": {
    "colab": {
     "base_uri": "https://localhost:8080/"
    },
    "id": "3OHgz86WU_Ej",
    "outputId": "314309be-4a03-4685-d1f3-aaec456c23c8"
   },
   "outputs": [
    {
     "name": "stdout",
     "output_type": "stream",
     "text": [
      "auto 7 0.45982142857142855\n",
      "auto 9 0.45982142857142855\n",
      "auto 11 0.45982142857142855\n",
      "auto 13 0.45982142857142855\n",
      "auto 15 0.45089285714285715\n",
      "auto 17 0.46651785714285715\n",
      "auto 19 0.43973214285714285\n",
      "auto 21 0.453125\n",
      "auto 23 0.484375\n",
      "auto 25 0.44866071428571436\n",
      "auto 27 0.46875\n",
      "auto 29 0.45982142857142855\n",
      "auto 31 0.48214285714285715\n",
      "auto 33 0.4732142857142857\n",
      "auto 35 0.48660714285714285\n",
      "auto 37 0.45535714285714285\n",
      "auto 39 0.43973214285714285\n",
      "auto 41 0.46651785714285715\n",
      "auto 43 0.43080357142857145\n",
      "auto 45 0.4419642857142857\n",
      "auto 47 0.47098214285714285\n",
      "auto 49 0.45089285714285715\n",
      "full 7 0.45982142857142855\n",
      "full 9 0.45982142857142855\n",
      "full 11 0.45982142857142855\n",
      "full 13 0.45982142857142855\n",
      "full 15 0.453125\n",
      "full 17 0.46651785714285715\n",
      "full 19 0.43973214285714285\n",
      "full 21 0.453125\n",
      "full 23 0.453125\n",
      "full 25 0.42857142857142855\n",
      "full 27 0.42857142857142855\n",
      "full 29 0.44866071428571436\n",
      "full 31 0.49330357142857145\n",
      "full 33 0.45982142857142855\n",
      "full 35 0.41964285714285715\n",
      "full 37 0.46875\n",
      "full 39 0.42633928571428575\n",
      "full 41 0.4642857142857143\n",
      "full 43 0.4330357142857143\n",
      "full 45 0.46651785714285715\n",
      "full 47 0.47767857142857145\n",
      "full 49 0.45089285714285715\n",
      "elkan 7 0.45982142857142855\n",
      "elkan 9 0.45982142857142855\n",
      "elkan 11 0.45982142857142855\n",
      "elkan 13 0.45982142857142855\n",
      "elkan 15 0.45089285714285715\n",
      "elkan 17 0.46651785714285715\n",
      "elkan 19 0.43973214285714285\n",
      "elkan 21 0.453125\n",
      "elkan 23 0.484375\n",
      "elkan 25 0.44866071428571436\n",
      "elkan 27 0.46875\n",
      "elkan 29 0.45982142857142855\n",
      "elkan 31 0.48214285714285715\n",
      "elkan 33 0.4732142857142857\n",
      "elkan 35 0.48660714285714285\n",
      "elkan 37 0.45535714285714285\n",
      "elkan 39 0.43973214285714285\n",
      "elkan 41 0.46651785714285715\n",
      "elkan 43 0.43080357142857145\n",
      "elkan 45 0.4419642857142857\n",
      "elkan 47 0.47098214285714285\n",
      "elkan 49 0.45089285714285715\n"
     ]
    }
   ],
   "source": [
    "for alg in ['auto','full','elkan']:  \n",
    "  for k in range(7,50,2):\n",
    "    kmeans_model = KMeans(n_clusters=k,algorithm=alg,random_state=0)\n",
    "    kmeans_model.fit(train_X)\n",
    "    predicted_clusters = kmeans_model.predict(train_X)\n",
    "    cluster_labels = []\n",
    "    for i in range(kmeans_model.n_clusters):\n",
    "      dist = np.unique(train_y[predicted_clusters==i], return_counts=True)\n",
    "      #print(dist)\n",
    "      cluster_labels.append(dist[0][np.argmax(dist[1])])\n",
    "\n",
    "    prediction_test = predict(test_X,kmeans_model,cluster_labels)\n",
    "    score = f1_score(test_y,prediction_test,average = 'micro')\n",
    "    print(alg,k,score)"
   ]
  },
  {
   "cell_type": "markdown",
   "metadata": {
    "id": "sBssZmV0WtQ3"
   },
   "source": [
    "Selected model"
   ]
  },
  {
   "cell_type": "code",
   "execution_count": 12,
   "metadata": {
    "colab": {
     "base_uri": "https://localhost:8080/"
    },
    "id": "5WBtFkoV_w_u",
    "outputId": "578e9e90-2d68-4581-fd2a-59724f5a339f"
   },
   "outputs": [
    {
     "name": "stdout",
     "output_type": "stream",
     "text": [
      "Balanced F1 score\t0.48660714285714285\tAccuracy\t0.48660714285714285\n"
     ]
    }
   ],
   "source": [
    "kmeans_model = KMeans(n_clusters=35,random_state=0)\n",
    "kmeans_model.fit(train_X)\n",
    "predicted_clusters = kmeans_model.predict(train_X)\n",
    "cluster_labels = []\n",
    "for i in range(kmeans_model.n_clusters):\n",
    "  dist = np.unique(train_y[predicted_clusters==i], return_counts=True)\n",
    "  #print(dist)\n",
    "  cluster_labels.append(dist[0][np.argmax(dist[1])])\n",
    "\n",
    "prediction_test = predict(test_X,kmeans_model,cluster_labels)\n",
    "score = f1_score(test_y,prediction_test,average = 'micro')\n",
    "accuracy = accuracy_score(test_y,prediction_test)\n",
    "print('Balanced F1 score',score,'Accuracy',accuracy,sep='\\t')"
   ]
  },
  {
   "cell_type": "code",
   "execution_count": null,
   "metadata": {
    "id": "mEZABllissdF"
   },
   "outputs": [],
   "source": [
    "a"
   ]
  },
  {
   "cell_type": "markdown",
   "metadata": {
    "id": "lMmeyv06sgZN"
   },
   "source": [
    "Storing model and cluster labels learnt from train data given to use in inference.py"
   ]
  },
  {
   "cell_type": "code",
   "execution_count": 171,
   "metadata": {
    "id": "ZOH24AcKdZSN"
   },
   "outputs": [],
   "source": [
    "#import pickle"
   ]
  },
  {
   "cell_type": "code",
   "execution_count": 172,
   "metadata": {
    "id": "rmH2Xh2zddeX"
   },
   "outputs": [],
   "source": [
    "#d = {'model':kmeans_model,'cluster_labels':cluster_labels}"
   ]
  },
  {
   "cell_type": "code",
   "execution_count": 173,
   "metadata": {
    "id": "BZV4B5uFdo-N"
   },
   "outputs": [],
   "source": [
    "#with open(\"model.pkl\", \"wb\") as f:\n",
    " # pickle.dump(d, f)"
   ]
  },
  {
   "cell_type": "markdown",
   "metadata": {
    "id": "IWH5D3PvIxYe"
   },
   "source": [
    "Gaussian Try!"
   ]
  },
  {
   "cell_type": "code",
   "execution_count": 13,
   "metadata": {
    "colab": {
     "base_uri": "https://localhost:8080/"
    },
    "id": "dKpEqvTcOZ1S",
    "outputId": "8a075ebc-5b39-4503-8530-b4e31e299e7a"
   },
   "outputs": [
    {
     "data": {
      "text/plain": [
       "2    641\n",
       "1    552\n",
       "7    185\n",
       "3    153\n",
       "6    119\n",
       "5    112\n",
       "4     29\n",
       "Name: target, dtype: int64"
      ]
     },
     "execution_count": 13,
     "metadata": {},
     "output_type": "execute_result"
    }
   ],
   "source": [
    "train_y.value_counts()"
   ]
  },
  {
   "cell_type": "code",
   "execution_count": 14,
   "metadata": {
    "id": "F-obRxL5IxD2"
   },
   "outputs": [],
   "source": [
    "from sklearn.mixture import GaussianMixture\n"
   ]
  },
  {
   "cell_type": "code",
   "execution_count": 15,
   "metadata": {
    "colab": {
     "base_uri": "https://localhost:8080/"
    },
    "id": "MN5L2sc1I1es",
    "outputId": "6997f575-71b8-47d5-c5e9-9907dcd94005"
   },
   "outputs": [
    {
     "data": {
      "text/plain": [
       "GaussianMixture(n_components=7)"
      ]
     },
     "execution_count": 15,
     "metadata": {},
     "output_type": "execute_result"
    }
   ],
   "source": [
    "GM_model=GaussianMixture(n_components=7)\n",
    "GM_model.fit(train_X)"
   ]
  },
  {
   "cell_type": "code",
   "execution_count": 16,
   "metadata": {
    "colab": {
     "base_uri": "https://localhost:8080/"
    },
    "id": "azZKo23pJWm5",
    "outputId": "5adcd144-bbb2-411d-beae-e8e9a7c7a6af"
   },
   "outputs": [
    {
     "data": {
      "text/plain": [
       "array([0, 1, 2, 3, 4, 5, 6])"
      ]
     },
     "execution_count": 16,
     "metadata": {},
     "output_type": "execute_result"
    }
   ],
   "source": [
    "predicted_clusters = GM_model.predict(train_X)\n",
    "np.unique(predicted_clusters)"
   ]
  },
  {
   "cell_type": "code",
   "execution_count": 17,
   "metadata": {
    "colab": {
     "base_uri": "https://localhost:8080/"
    },
    "id": "osoREmhcNLsY",
    "outputId": "da694a64-a9f6-4bfe-9fff-65873f32c9c2"
   },
   "outputs": [
    {
     "data": {
      "text/plain": [
       "[1, 2, 1, 2, 2, 2, 1]"
      ]
     },
     "execution_count": 17,
     "metadata": {},
     "output_type": "execute_result"
    }
   ],
   "source": [
    "cluster_labels = []\n",
    "for i in range(7):\n",
    "  dist = np.unique(train_y[predicted_clusters==i], return_counts=True)\n",
    "  #print(dist)\n",
    "  cluster_labels.append(dist[0][np.argmax(dist[1])])\n",
    "cluster_labels"
   ]
  },
  {
   "cell_type": "code",
   "execution_count": 18,
   "metadata": {
    "id": "l_taaA7tNpUv"
   },
   "outputs": [],
   "source": [
    "prediction_test = predict(test_X,GM_model,cluster_labels)\n",
    "#prediction_test"
   ]
  },
  {
   "cell_type": "code",
   "execution_count": 19,
   "metadata": {
    "colab": {
     "base_uri": "https://localhost:8080/"
    },
    "id": "tM1HkHu6PO81",
    "outputId": "6313dba4-a629-438d-e86e-c74483411ef1"
   },
   "outputs": [
    {
     "data": {
      "text/plain": [
       "0.3794642857142857"
      ]
     },
     "execution_count": 19,
     "metadata": {},
     "output_type": "execute_result"
    }
   ],
   "source": [
    "f1_score(test_y,prediction_test,average = 'micro')"
   ]
  },
  {
   "cell_type": "code",
   "execution_count": null,
   "metadata": {
    "id": "FqYgtcIhQvsd"
   },
   "outputs": [],
   "source": []
  }
 ],
 "metadata": {
  "colab": {
   "collapsed_sections": [],
   "name": "DMGAssignment3_Q2.ipynb",
   "provenance": []
  },
  "kernelspec": {
   "display_name": "Python 3",
   "language": "python",
   "name": "python3"
  },
  "language_info": {
   "codemirror_mode": {
    "name": "ipython",
    "version": 3
   },
   "file_extension": ".py",
   "mimetype": "text/x-python",
   "name": "python",
   "nbconvert_exporter": "python",
   "pygments_lexer": "ipython3",
   "version": "3.8.8"
  }
 },
 "nbformat": 4,
 "nbformat_minor": 1
}
