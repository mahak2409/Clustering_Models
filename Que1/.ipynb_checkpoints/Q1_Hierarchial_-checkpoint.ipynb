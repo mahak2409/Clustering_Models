{
 "cells": [
  {
   "cell_type": "code",
   "execution_count": 1,
   "metadata": {
    "id": "rHO305XrJbnw"
   },
   "outputs": [],
   "source": [
    "#import pandas as pd\n",
    "#from google.colab import drive\n",
    "#drive.mount('/content/drive')\n",
    "#df = pd.read_csv(\"/content/drive/MyDrive/dmg ass3/covtype_train.csv\")"
   ]
  },
  {
   "cell_type": "code",
   "execution_count": null,
   "metadata": {
    "colab": {
     "base_uri": "https://localhost:8080/",
     "height": 536
    },
    "id": "2pe3utJ3yHA-",
    "outputId": "feb04e3c-a8c1-4088-de05-a74ba0dd2623"
   },
   "outputs": [
    {
     "name": "stdout",
     "output_type": "stream",
     "text": [
      "(2239, 11)\n"
     ]
    }
   ],
   "source": [
    "import numpy as np\n",
    "import pandas as pd\n",
    "from sklearn.preprocessing import StandardScaler, normalize\n",
    "from sklearn.decomposition import PCA\n",
    "import scipy.cluster.hierarchy as hc\n",
    "import matplotlib.pyplot as plt\n",
    "from sklearn.cluster import AgglomerativeClustering\n",
    "import sklearn.metrics\n",
    "from collections import Counter\n",
    "\n",
    "\n",
    "\n",
    "df = pd.read_csv(\"covtype_train.csv\")\n",
    "df.drop_duplicates(keep=False,inplace=True)\n",
    "\n",
    "#converting object to category \n",
    "df = df.astype({\"Elevation\":'category','Aspect':'category','Slope':'category','Hillshade_9am':'category','Hillshade_Noon':'category','Horizontal_Distance_To_Fire_Points':'category'})\n",
    "for c in df.columns:\n",
    "    df[c] = df[c].astype('category').cat.codes\n",
    "print(df.shape)\n",
    "newdf=df\n",
    "#newdf.drop(columns='target')\n",
    "\n",
    "#normalizing data \n",
    "\n",
    "sc = StandardScaler()\n",
    "df_scaled = sc.fit_transform(newdf)\n",
    "df_normalized = normalize(df_scaled)\n",
    "\n",
    "# Reduction of  dimensionality of data to 3 features\n",
    "pca = PCA(n_components=3)\n",
    "df_pca = pca.fit_transform(df_normalized)\n",
    "df_pca = pd.DataFrame(df_pca)\n",
    "df_pca.columns = ['P1', 'P2','P3']\n",
    "#\n",
    "# Create the Dendogram plot\n",
    "#\n",
    "plt.figure(figsize =(8, 8))\n",
    "plt.title('Visualising the data')\n",
    "dendrogram = hc.dendrogram((hc.linkage(df_pca, method ='ward')))"
   ]
  },
  {
   "cell_type": "code",
   "execution_count": null,
   "metadata": {
    "id": "nvUdUEndJano"
   },
   "outputs": [],
   "source": []
  },
  {
   "cell_type": "code",
   "execution_count": null,
   "metadata": {
    "colab": {
     "base_uri": "https://localhost:8080/"
    },
    "id": "4Xf87oIevItM",
    "outputId": "de023562-d705-4d68-d10e-8d6a1f9cfecf"
   },
   "outputs": [],
   "source": [
    "df.target.unique()\n"
   ]
  },
  {
   "cell_type": "code",
   "execution_count": null,
   "metadata": {
    "colab": {
     "base_uri": "https://localhost:8080/",
     "height": 642
    },
    "id": "pG_jDRuky-rZ",
    "outputId": "7fbe72b4-c751-4768-dd5f-e0158b9bec64"
   },
   "outputs": [],
   "source": [
    "agc = AgglomerativeClustering(n_clusters = 7)\n",
    "plt.figure(figsize =(8, 8))\n",
    "plt.scatter(df_pca['P1'], df_pca['P2'], c = agc.fit_predict(df_pca), cmap ='rainbow')\n",
    "\n",
    "\n",
    "x,y=df_pca['P1'],df_pca['P2']\n",
    "df_pca['labels']=agc.labels_\n",
    "\n",
    "df_pca.groupby('labels').nunique()\n",
    "centroid=[]\n",
    "for i in df_pca.labels.unique():\n",
    "  l1=[]\n",
    "  l1=df_pca[agc.labels_ == i ]\n",
    "  c1=l1['P1'].sum()/len(l1)\n",
    "  c2=l1['P2'].sum()/len(l1)\n",
    "  c3=l1['P3'].sum()/len(l1)\n",
    "  centroid.append([c1,c2,c3])\n",
    "centroid = np.array(centroid)\n",
    "\n",
    "print(centroid)\n",
    "\n",
    "\n",
    "plt.title(\"Agglomerative Hierarchical Clusters - Scatter Plot\", fontsize=18)\n",
    "plt.scatter(df_pca['P1'], df_pca['P2'], c = agc.fit_predict(df_pca), cmap ='rainbow')\n",
    "plt.scatter(centroid[:,0],centroid[:,1], c=\"black\", s=200, marker=('x'))\n",
    "plt.show()\n",
    "\n"
   ]
  },
  {
   "cell_type": "markdown",
   "metadata": {
    "id": "K0eD1dsOGOHn"
   },
   "source": [
    "Comparison of true labels with cluster distributions Q1(3Part)"
   ]
  },
  {
   "cell_type": "code",
   "execution_count": null,
   "metadata": {
    "colab": {
     "base_uri": "https://localhost:8080/"
    },
    "id": "JT6xZ0VCazOf",
    "outputId": "4c82b449-d314-427b-a681-364b41b0ad5d"
   },
   "outputs": [],
   "source": [
    "#Giving clusters labels according to the majority data points belonging there\n",
    "cluster=agc.fit_predict(df_pca)\n",
    "cluster_labels = []\n",
    "for i in range(agc.n_clusters):\n",
    "  dist = np.unique(df['target'][cluster==i], return_counts=True)\n",
    "  #print(dist)\n",
    "  cluster_labels.append(dist[0][np.argmax(dist[1])])\n",
    "cluster_labels"
   ]
  },
  {
   "cell_type": "code",
   "execution_count": null,
   "metadata": {
    "colab": {
     "base_uri": "https://localhost:8080/"
    },
    "id": "K9nFuNIFcxqb",
    "outputId": "6418144f-92f8-4b03-d6d6-4295a6cf67f6"
   },
   "outputs": [],
   "source": [
    "#Giving predicted clusters labels according to the cluster they belong\n",
    "predict_labels_data = np.array([cluster_labels[i] for i in cluster])\n",
    "predict_labels_data"
   ]
  },
  {
   "cell_type": "code",
   "execution_count": null,
   "metadata": {
    "colab": {
     "base_uri": "https://localhost:8080/"
    },
    "id": "3pu9Qfedczs2",
    "outputId": "06b827d1-4a9f-43c5-b38d-722cdfb3327a"
   },
   "outputs": [],
   "source": [
    "sklearn.metrics.accuracy_score(df['target'], predict_labels_data)\n"
   ]
  },
  {
   "cell_type": "markdown",
   "metadata": {},
   "source": [
    "Q3 part count of true value and predicted value"
   ]
  },
  {
   "cell_type": "code",
   "execution_count": null,
   "metadata": {},
   "outputs": [],
   "source": [
    "c = Counter( df.target)\n",
    "\n",
    "print( c.items() )"
   ]
  },
  {
   "cell_type": "code",
   "execution_count": null,
   "metadata": {},
   "outputs": [],
   "source": [
    "c = Counter( predict_labels_data)\n",
    "print( c.items() )"
   ]
  }
 ],
 "metadata": {
  "colab": {
   "collapsed_sections": [],
   "name": "Q1_Hierarchial .ipynb",
   "provenance": []
  },
  "kernelspec": {
   "display_name": "Python 3",
   "language": "python",
   "name": "python3"
  },
  "language_info": {
   "codemirror_mode": {
    "name": "ipython",
    "version": 3
   },
   "file_extension": ".py",
   "mimetype": "text/x-python",
   "name": "python",
   "nbconvert_exporter": "python",
   "pygments_lexer": "ipython3",
   "version": "3.7.6"
  }
 },
 "nbformat": 4,
 "nbformat_minor": 1
}
